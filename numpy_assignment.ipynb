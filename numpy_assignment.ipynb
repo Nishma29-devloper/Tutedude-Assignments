{
 "cells": [
  {
   "cell_type": "code",
   "execution_count": 1,
   "id": "58dac3e8-db97-409d-b585-1e48d88e182f",
   "metadata": {},
   "outputs": [
    {
     "data": {
      "text/plain": [
       "array([ 1,  2,  3,  4,  5,  6,  7,  8,  9, 10, 11, 12, 13, 14, 15, 16, 17,\n",
       "       18, 19, 20])"
      ]
     },
     "execution_count": 1,
     "metadata": {},
     "output_type": "execute_result"
    }
   ],
   "source": [
    "#Create a 1D NumPy array with integers from 1 to 20. Perform the following operations:\n",
    "\n",
    "import numpy as np\n",
    "arr=np.arange(1,21)\n",
    "arr\n",
    "\n",
    "#In this we use the range function to get the numbers from 1 to 20"
   ]
  },
  {
   "cell_type": "code",
   "execution_count": 3,
   "id": "c2c5b114-5c7e-46db-bd0a-d773c8b61be6",
   "metadata": {},
   "outputs": [
    {
     "name": "stdout",
     "output_type": "stream",
     "text": [
      "Sum: 210\n",
      "Mean: 10.5\n",
      "Median: 10.5\n",
      "Standard Deviation: 5.766281297335398\n"
     ]
    }
   ],
   "source": [
    "#Calculate the sum, mean, median, and standard deviation of the elements in the array.\n",
    "\n",
    "print(\"Sum:\",np.sum(arr))\n",
    "print(\"Mean:\",np.mean(arr))\n",
    "print(\"Median:\",np.median(arr))\n",
    "print(\"Standard Deviation:\",np.std(arr))\n",
    "\n",
    "#In this we perform the mean, median,sum and the standard deviation by use the required functions\n",
    "\n"
   ]
  },
  {
   "cell_type": "code",
   "execution_count": 13,
   "id": "d9ed987d-13f4-4402-9448-5da824ea1368",
   "metadata": {},
   "outputs": [
    {
     "data": {
      "text/plain": [
       "array([10, 11, 12, 13, 14, 15, 16, 17, 18, 19], dtype=int64)"
      ]
     },
     "execution_count": 13,
     "metadata": {},
     "output_type": "execute_result"
    }
   ],
   "source": [
    "#Find the indices of elements greater than 10 in the array.\n",
    "\n",
    "indicies=np.where(arr > 10)[0]\n",
    "indicies\n",
    "#we print the array of the elements  greater than 10\n"
   ]
  },
  {
   "cell_type": "code",
   "execution_count": null,
   "id": "6118a253-7cf5-47c6-a5fc-0db12d96a450",
   "metadata": {},
   "outputs": [],
   "source": [
    "#2. Create a 2D NumPy array of shape 4 X 4 with numbers ranging from 1 to 16.  "
   ]
  },
  {
   "cell_type": "code",
   "execution_count": 15,
   "id": "0daffe9d-791d-4bb4-b700-9917e15c37d3",
   "metadata": {},
   "outputs": [
    {
     "data": {
      "text/plain": [
       "array([[ 1,  2,  3,  4],\n",
       "       [ 5,  6,  7,  8],\n",
       "       [ 9, 10, 11, 12],\n",
       "       [13, 14, 15, 16]])"
      ]
     },
     "execution_count": 15,
     "metadata": {},
     "output_type": "execute_result"
    }
   ],
   "source": [
    "array=np.arange(1,17).reshape(4,4)\n",
    "array\n",
    "# we print the array of elements"
   ]
  },
  {
   "cell_type": "code",
   "execution_count": 16,
   "id": "c9de7d34-6c9e-4729-9cf2-5ef16e3e31d1",
   "metadata": {},
   "outputs": [
    {
     "data": {
      "text/plain": [
       "array([[ 1,  5,  9, 13],\n",
       "       [ 2,  6, 10, 14],\n",
       "       [ 3,  7, 11, 15],\n",
       "       [ 4,  8, 12, 16]])"
      ]
     },
     "execution_count": 16,
     "metadata": {},
     "output_type": "execute_result"
    }
   ],
   "source": [
    "# b. Find the transpose of the array.  \n",
    "\n",
    "Transpose=np.transpose(array)\n",
    "Transpose\n",
    "\n",
    "# transposing of the array is done in this by using the function transpose"
   ]
  },
  {
   "cell_type": "code",
   "execution_count": 9,
   "id": "9a468f2f-ec33-434d-9c46-88120313b0ad",
   "metadata": {},
   "outputs": [
    {
     "data": {
      "text/plain": [
       "array([10, 26, 42, 58])"
      ]
     },
     "execution_count": 9,
     "metadata": {},
     "output_type": "execute_result"
    }
   ],
   "source": [
    "#c. Calculate the row-wise sums of the array.\n",
    "\n",
    "import numpy as np\n",
    "array=np.arange(1,17).reshape(4,4)\n",
    "row=np.sum(array,axis=1)\n",
    "row\n",
    "\n"
   ]
  },
  {
   "cell_type": "code",
   "execution_count": 8,
   "id": "2a341bef-1f93-4010-8331-da91bb576653",
   "metadata": {},
   "outputs": [
    {
     "data": {
      "text/plain": [
       "array([28, 32, 36, 40])"
      ]
     },
     "execution_count": 8,
     "metadata": {},
     "output_type": "execute_result"
    }
   ],
   "source": [
    "#c. Calculate the column-wise sums of the array.\n",
    "col=np.sum(array,axis=0)\n",
    "col"
   ]
  },
  {
   "cell_type": "code",
   "execution_count": 30,
   "id": "54b00534-0839-4be1-80b2-35d5eb724ea4",
   "metadata": {},
   "outputs": [
    {
     "data": {
      "text/plain": [
       "array([[17,  0, 13],\n",
       "       [16,  1, 10],\n",
       "       [11,  9,  8]])"
      ]
     },
     "execution_count": 30,
     "metadata": {},
     "output_type": "execute_result"
    }
   ],
   "source": [
    "\n",
    "#3. Create two 3 X 3 arrays filled with random integers between 1 and 20.  \n",
    "array2=np.random.randint(21,size=(3,3))\n",
    "array1   #printing array 1"
   ]
  },
  {
   "cell_type": "code",
   "execution_count": 31,
   "id": "dd17a459-e700-4118-af17-a3225ead4b60",
   "metadata": {},
   "outputs": [
    {
     "data": {
      "text/plain": [
       "array([[ 2, 12, 10],\n",
       "       [17, 11, 14],\n",
       "       [11, 19,  7]])"
      ]
     },
     "execution_count": 31,
     "metadata": {},
     "output_type": "execute_result"
    }
   ],
   "source": [
    "array2 #printing array 2"
   ]
  },
  {
   "cell_type": "code",
   "execution_count": 32,
   "id": "06f67e47-ef1f-4c4c-8955-66d00b98b322",
   "metadata": {},
   "outputs": [
    {
     "data": {
      "text/plain": [
       "array([[19, 12, 23],\n",
       "       [33, 12, 24],\n",
       "       [22, 28, 15]])"
      ]
     },
     "execution_count": 32,
     "metadata": {},
     "output_type": "execute_result"
    }
   ],
   "source": [
    "#a. Perform element-wise addition\n",
    "\n",
    "add=array1+array2\n",
    "add"
   ]
  },
  {
   "cell_type": "code",
   "execution_count": 33,
   "id": "938a9914-ca60-4c4b-919d-b057337ff043",
   "metadata": {},
   "outputs": [
    {
     "data": {
      "text/plain": [
       "array([[ 15, -12,   3],\n",
       "       [ -1, -10,  -4],\n",
       "       [  0, -10,   1]])"
      ]
     },
     "execution_count": 33,
     "metadata": {},
     "output_type": "execute_result"
    }
   ],
   "source": [
    "#a. Perform element-wise subtraction \n",
    "sub=array1-array2\n",
    "sub"
   ]
  },
  {
   "cell_type": "code",
   "execution_count": 34,
   "id": "a4089b87-a68b-4d76-b45a-52c8703e645f",
   "metadata": {},
   "outputs": [
    {
     "data": {
      "text/plain": [
       "array([[ 34,   0, 130],\n",
       "       [272,  11, 140],\n",
       "       [121, 171,  56]])"
      ]
     },
     "execution_count": 34,
     "metadata": {},
     "output_type": "execute_result"
    }
   ],
   "source": [
    "#a. Perform element-wise  multiplication. \n",
    "\n",
    "mul=array1*array2\n",
    "mul"
   ]
  },
  {
   "cell_type": "code",
   "execution_count": 35,
   "id": "84484c74-252c-4cfe-a0e6-447d43caea7d",
   "metadata": {},
   "outputs": [
    {
     "data": {
      "text/plain": [
       "array([[177, 451, 261],\n",
       "       [159, 393, 244],\n",
       "       [263, 383, 292]])"
      ]
     },
     "execution_count": 35,
     "metadata": {},
     "output_type": "execute_result"
    }
   ],
   "source": [
    "#b. Compute the dot product of the two arrays.  \n",
    "\n",
    "dot=np.dot(array1,array2)\n",
    "dot"
   ]
  },
  {
   "cell_type": "code",
   "execution_count": 52,
   "id": "67b8bfa1-165b-405f-86a6-d58971e60592",
   "metadata": {},
   "outputs": [
    {
     "data": {
      "text/plain": [
       "array([ 0,  1,  2,  3,  4,  5,  6,  7,  8,  9, 10, 11])"
      ]
     },
     "execution_count": 52,
     "metadata": {},
     "output_type": "execute_result"
    }
   ],
   "source": [
    "# Creating 1D array\n",
    "a=np.arange(12)\n",
    "a"
   ]
  },
  {
   "cell_type": "code",
   "execution_count": 53,
   "id": "b93b5a99-3034-4d20-9406-a7865de3b02d",
   "metadata": {},
   "outputs": [
    {
     "data": {
      "text/plain": [
       "array([[ 0,  1,  2,  3],\n",
       "       [ 4,  5,  6,  7],\n",
       "       [ 8,  9, 10, 11]])"
      ]
     },
     "execution_count": 53,
     "metadata": {},
     "output_type": "execute_result"
    }
   ],
   "source": [
    "#reshaping 1D array into 3X4 2D array\n",
    "b=a.reshape(3,4)\n",
    "b"
   ]
  },
  {
   "cell_type": "code",
   "execution_count": 54,
   "id": "60ffe166-a0e9-4f77-b844-9fa984ccbb86",
   "metadata": {},
   "outputs": [
    {
     "data": {
      "text/plain": [
       "array([[2, 3],\n",
       "       [6, 7]])"
      ]
     },
     "execution_count": 54,
     "metadata": {},
     "output_type": "execute_result"
    }
   ],
   "source": [
    "# slicing the first 2 rows and last 2 columns\n",
    "sliced = b[:2, -2:]\n",
    "sliced"
   ]
  },
  {
   "cell_type": "code",
   "execution_count": null,
   "id": "276221af-c356-4c0f-ab8c-09ff6523cc78",
   "metadata": {},
   "outputs": [],
   "source": []
  }
 ],
 "metadata": {
  "kernelspec": {
   "display_name": "Python [conda env:base] *",
   "language": "python",
   "name": "conda-base-py"
  },
  "language_info": {
   "codemirror_mode": {
    "name": "ipython",
    "version": 3
   },
   "file_extension": ".py",
   "mimetype": "text/x-python",
   "name": "python",
   "nbconvert_exporter": "python",
   "pygments_lexer": "ipython3",
   "version": "3.12.7"
  }
 },
 "nbformat": 4,
 "nbformat_minor": 5
}
